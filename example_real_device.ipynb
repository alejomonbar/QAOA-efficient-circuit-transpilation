{
 "cells": [
  {
   "cell_type": "code",
   "execution_count": null,
   "id": "7ee31588",
   "metadata": {},
   "outputs": [
    {
     "name": "stderr",
     "output_type": "stream",
     "text": [
      "/var/folders/76/d4kyjysx1xgdrrs6zzs63s180000gn/T/ipykernel_30576/2456209189.py:15: DeprecationWarning: The \"ibm_quantum\" channel option is deprecated and will be sunset on 1 July. After this date, \"ibm_cloud\" and \"local\" will be the only valid channels. For information on migrating to the new IBM Quantum Platform on the \"ibm_cloud\" channel, review the migration guide https://quantum.cloud.ibm.com/docs/migration-guides/classic-iqp-to-cloud-iqp .\n",
      "  service = QiskitRuntimeService()\n"
     ]
    }
   ],
   "source": [
    "from qiskit_ibm_runtime import QiskitRuntimeService, Sampler\n",
    "from qiskit import transpile\n",
    "from qiskit.circuit import ParameterVector, ClassicalRegister\n",
    "from qiskit_aer import QasmSimulator\n",
    "from PTC_utils import PTC_pairs, qaoa_PTC, decode_parity\n",
    "from SWAP_utils import SWAP_pairs, qaoa_SWAP, qubit_order\n",
    "from utils import total_cnots_depth, cost_maxcut, WMaxCut, qaoa, objective_MaxCut, random_samples, mitigate\n",
    "from copy import copy\n",
    "from simulated_annealing import simulated_annealing_func\n",
    "import networkx as nx\n",
    "from collections import defaultdict\n",
    "import numpy as np\n",
    "import matplotlib.pyplot as plt\n",
    "\n",
    "import os\n",
    "service = QiskitRuntimeService()\n"
   ]
  },
  {
   "cell_type": "code",
   "execution_count": 7,
   "id": "38e5446a",
   "metadata": {},
   "outputs": [],
   "source": [
    "backends = {}\n",
    "# backends[\"ibm_brisbane\"] = service.backend(\"ibm_brisbane\")\n",
    "backends[\"qasm_simulator\"] = QasmSimulator()"
   ]
  },
  {
   "cell_type": "code",
   "execution_count": 20,
   "id": "1f32d2e9",
   "metadata": {},
   "outputs": [],
   "source": [
    "def method_SA(G, method, callback, max_iter_sa = 5, initial_temp=0.01, cooling_rate=0.999, stop_temp=1e-8, max_iter=10000, verbose=False):\n",
    "    nq = G.number_of_nodes()\n",
    "    if method == \"PTC\":\n",
    "        list_2q = PTC_pairs(nq)\n",
    "    elif method == \"SWAP\":\n",
    "        list_2q = SWAP_pairs(nq)\n",
    "    else:\n",
    "        raise TypeError(\"Method not in list of methods\")\n",
    "    best_cost = 0\n",
    "    for _ in range(10):\n",
    "        best_map = dict(zip(range(nq),range(nq)))\n",
    "        for i in range(max_iter_sa):\n",
    "            best_map, current_cost, _ = simulated_annealing_func(G, best_map, list_2q, callback, initial_temp=initial_temp, cooling_rate=cooling_rate, stop_temp=stop_temp, max_iter=max_iter, verbose=verbose)\n",
    "            if current_cost < best_cost:\n",
    "                best_cost = current_cost\n",
    "                global_best = copy(best_map)\n",
    "            else:\n",
    "                break\n",
    "    mapping = {v: k for k, v in global_best.items()}\n",
    "    G_shuffled = nx.relabel_nodes(G.copy(), mapping)\n",
    "    _ , depth = total_cnots_depth(G_shuffled, list_2q)\n",
    "    list_used = copy(list_2q[:nq+depth])\n",
    "    return mapping, list_used\n",
    "\n",
    "\n"
   ]
  },
  {
   "cell_type": "markdown",
   "id": "17acb748",
   "metadata": {},
   "source": [
    "# Create the circuits"
   ]
  },
  {
   "cell_type": "code",
   "execution_count": 37,
   "id": "c192d01b",
   "metadata": {},
   "outputs": [
    {
     "name": "stdout",
     "output_type": "stream",
     "text": [
      "OrderedDict([('rzz', 45), ('rx', 30), ('h', 10), ('measure', 10)]) 21\n",
      "OrderedDict([('rzz', 60), ('rx', 40), ('h', 10), ('measure', 10)]) 27\n",
      "OrderedDict([('rzz', 75), ('rx', 50), ('h', 10), ('measure', 10)]) 33\n",
      "OrderedDict([('rzz', 90), ('rx', 60), ('h', 10), ('measure', 10)]) 39\n",
      "Depth reduction 3\n",
      "Delta: -------  0.5 ----------- \n"
     ]
    }
   ],
   "source": [
    "results = {}\n",
    "seed = 123\n",
    "results[\"seed\"] = seed\n",
    "method = [\"SWAP\",\"PTC\",\"Qiskit-T\"][2]\n",
    "backend_name = \"qasm_simulator\"\n",
    "# backend_name = \"ibm_brisbane\"\n",
    "nq = 10\n",
    "\n",
    "problem_name = \"3MC\"\n",
    "G = nx.random_regular_graph(3, nq, seed=results[\"seed\"])\n",
    "for i, j in G.edges():\n",
    "    G[i][j][\"weight\"] = 1\n",
    "mdl = WMaxCut(G)\n",
    "mdl.solve()\n",
    "sol = \"\".join(str(round(mdl.solution.get_value(var))) for var in mdl.iter_binary_vars())\n",
    "\n",
    "results[\"sol\"] = sol\n",
    "backend = backends[backend_name]\n",
    "\n",
    "deltas = [0.5]\n",
    "\n",
    "results[\"Deltas\"]  = deltas\n",
    "if method in [\"SWAP\", \"PTC\"]:\n",
    "    callback = {\"cost\": [], \"depth\": [], \"iterations\": [], \"T\": [], \"cost_cache\": {}}\n",
    "    mapping, list_used = method_SA(G, method, callback, initial_temp=0.01, cooling_rate=0.999, max_iter_sa=10, verbose=False)\n",
    "    G_shuffled = nx.relabel_nodes(G.copy(), mapping)\n",
    "    results[\"G_shuffled\"] = G_shuffled\n",
    "    results[\"mapping\"] = mapping\n",
    "    results[\"list_used\"] = list_used\n",
    "\n",
    "\n",
    "ps = [3,4,5,6]\n",
    "results[\"ps\"] = ps\n",
    "results[\"optimal\"] = sol\n",
    "results[\"G\"] = G\n",
    "results[\"circuits\"] = {}\n",
    "results[\"depth\"] = {}\n",
    "circuits_transpiled = {}\n",
    "for p in ps:\n",
    "    betas = ParameterVector(\"betas\", p)\n",
    "    gammas = ParameterVector(\"gammas\", p)\n",
    "    if method == \"PTC\":\n",
    "        qc = qaoa_PTC(gammas, betas, G_shuffled, list_used)\n",
    "    elif method == \"SWAP\":\n",
    "        qc = qaoa_SWAP(gammas, betas, G_shuffled, list_used)\n",
    "    elif method == \"Qiskit-T\":\n",
    "        qc = qaoa(gammas, betas, G)\n",
    "    qc.add_register(ClassicalRegister(nq))\n",
    "    qc.measure(reversed(range(nq)), range(nq))\n",
    "    circ_device = transpile(qc, backend, optimization_level=1)\n",
    "    circuits_transpiled[p] = circ_device\n",
    "    results[\"circuits\"][p] = circ_device.count_ops()\n",
    "    results[\"depth\"][p] = circ_device.depth()\n",
    "    print(circ_device.count_ops(), circ_device.depth())\n",
    "\n",
    "print(\"Depth reduction\", nq - len(list_used))\n",
    "\n",
    "\n",
    "circuits = []\n",
    "for delta in deltas:\n",
    "    print(f\"Delta: -------  {round(delta,2)} ----------- \")\n",
    "    for p in ps:\n",
    "        \n",
    "        betas = list(np.arange(1, p+1)[::-1] * delta / p)\n",
    "        gammas = list(np.arange(1, p+1) * delta / p)\n",
    "        backend_circ = circuits_transpiled[p].assign_parameters(np.concatenate((betas, gammas)))\n",
    "        circuits.append(backend_circ)"
   ]
  },
  {
   "cell_type": "markdown",
   "id": "57ec4a8a",
   "metadata": {},
   "source": [
    "# Run experiments"
   ]
  },
  {
   "cell_type": "code",
   "execution_count": 38,
   "id": "4b9ce418",
   "metadata": {},
   "outputs": [],
   "source": [
    "shots = 1000\n",
    "results[\"shots\"] = shots\n",
    "version = \"\"\n",
    "if backend_name != \"qasm_simulator\":\n",
    "    sampler = Sampler(mode=backends[backend_name])\n",
    "    submit_job = sampler.run(circuits, shots=shots)\n",
    "    results[\"id\"] = submit_job.job_id() # ID to retrieve the job once is done\n",
    "else:\n",
    "    dict_results = backends[backend_name].run(circuits, shots=shots).result().get_counts()\n",
    "    if method == \"PTC\":\n",
    "        samples = {p:{decode_parity(k, p, results[\"list_used\"]):c for k, c in dict_results[ii].items()} for ii, p in enumerate(results[\"ps\"])}\n",
    "        samples = {p:{\"\".join(k[results[\"mapping\"][i]] for i in range(nq)):v for k, v in samples[p].items()} for p in results[\"ps\"]}  \n",
    "    elif method == \"SWAP\":\n",
    "        samples = {p:{\"\".join(k[i] for i in (range(nq) if p%2==0 else np.argsort(qubit_order(nq, len(results[\"list_used\"])-1)))):c for k, c in dict_results[ii].items()} for ii, p in enumerate(results[\"ps\"])}    \n",
    "        samples = {p:{\"\".join(k[results[\"mapping\"][i]] for i in range(nq)):v for k, v in samples[p].items()} for p in results[\"ps\"]} \n",
    "    elif method == \"Qiskit-T\":\n",
    "        samples = {p:{k:c for k, c in dict_results[ii].items()} for ii, p in enumerate(results[\"ps\"])} \n",
    "    results[\"samples\"] = {results[\"Deltas\"][0]: samples}\n",
    "\n",
    "os.makedirs(f\"./Data/{backend_name}/\", exist_ok=True)\n",
    "np.save(f\"./Data/{backend_name}/{nq}_{problem_name}_{method}{seed}{version}.npy\", results)"
   ]
  },
  {
   "cell_type": "markdown",
   "id": "5e5733c0",
   "metadata": {},
   "source": [
    "# Retrieved data real QPU"
   ]
  },
  {
   "cell_type": "code",
   "execution_count": 41,
   "id": "5b694b6b",
   "metadata": {},
   "outputs": [],
   "source": [
    "backend_name = \"qasm_simulator\"\n",
    "method = [\"SWAP\",\"PTC\",\"Qiskit-T\"][2]\n",
    "seed = 123\n",
    "nq = 10\n",
    "version = \"\"\n",
    "problem_name = \"3MC\"\n",
    "results = np.load(f\"./Data/{backend_name}/{nq}_{problem_name}_{method}{seed}{version}.npy\", allow_pickle=True).item()\n",
    "\n",
    "if backend_name != \"qasm_simulator\":\n",
    "    jobs = service.job(job_id=results[\"id\"]).result()\n",
    "    dict_results = [getattr(jobs[i].data, [i for i in dir(jobs[i].data) if i[0] == \"c\"][0]).get_counts() for i in range(len(jobs))]\n",
    "    if method == \"PTC\":\n",
    "        samples = {p:{decode_parity(k, p, results[\"list_used\"]):c for k, c in dict_results[ii].items()} for ii, p in enumerate(results[\"ps\"])}\n",
    "        samples = {p:{\"\".join(k[results[\"mapping\"][i]] for i in range(nq)):v for k, v in samples[p].items()} for p in results[\"ps\"]}  \n",
    "    elif method == \"SWAP\":\n",
    "        samples = {p:{\"\".join(k[i] for i in (range(nq) if p%2==0 else np.argsort(qubit_order(nq, len(results[\"list_used\"])-1)))):c for k, c in dict_results[ii].items()} for ii, p in enumerate(results[\"ps\"])}    \n",
    "        samples = {p:{\"\".join(k[results[\"mapping\"][i]] for i in range(nq)):v for k, v in samples[p].items()} for p in results[\"ps\"]}\n",
    "    elif method == \"Qiskit-T\":\n",
    "        samples = {p:{k:c for k, c in dict_results[ii].items()} for ii, p in enumerate(results[\"ps\"])} \n",
    "    results[\"samples\"] = {results[\"Deltas\"][0]: samples}"
   ]
  },
  {
   "cell_type": "markdown",
   "id": "b4cd21dd",
   "metadata": {},
   "source": [
    "# Postprocessing the samples using the objective function"
   ]
  },
  {
   "cell_type": "code",
   "execution_count": 42,
   "id": "05524e49",
   "metadata": {},
   "outputs": [
    {
     "name": "stdout",
     "output_type": "stream",
     "text": [
      "----------- delta = 0.5 -------------\n",
      "----------- p = 3 -------------\n",
      "----------- p = 4 -------------\n",
      "----------- p = 5 -------------\n",
      "----------- p = 6 -------------\n"
     ]
    }
   ],
   "source": [
    "nq = results[\"G\"].number_of_nodes()\n",
    "sections = 1\n",
    "\n",
    "postprocessing = {}\n",
    "postprocessing_mitig = {}\n",
    "for delta in results[\"Deltas\"]:\n",
    "    print(f\"----------- delta = {delta} -------------\")\n",
    "    postprocessing[delta] = {}\n",
    "    postprocessing_mitig[delta] = {}\n",
    "    for p in results[\"ps\"]:\n",
    "        print(f\"----------- p = {p} -------------\")\n",
    "        postprocessing[delta][p] = {}\n",
    "        postprocessing_mitig[delta][p] = {}\n",
    "        for sec in range(sections):\n",
    "            samples_sec = defaultdict(int)\n",
    "            for k, v in results[\"samples\"][delta][p].items():\n",
    "                samples_sec[k[sec*nq:(sec+1)*nq]] += v\n",
    "            postprocessing[delta][p][sec] = objective_MaxCut(samples_sec, results[\"G\"], results[\"optimal\"])\n",
    "            new_samples = mitigate(samples_sec, results[\"G\"], random=False)\n",
    "            postprocessing_mitig[delta][p][sec] = objective_MaxCut(new_samples, results[\"G\"], results[\"optimal\"])\n",
    "results[\"postprocessing\"] = postprocessing\n",
    "results[\"postprocessing_mitig\"] = postprocessing_mitig\n",
    "rand_samples = random_samples(10000, nq)\n",
    "results[\"random\"] = objective_MaxCut(rand_samples, results[\"G\"], results[\"optimal\"])\n",
    "results[\"random_mitig\"] = objective_MaxCut(mitigate(rand_samples, results[\"G\"], random=False), results[\"G\"], results[\"optimal\"])\n",
    "\n",
    "np.save(f\"./Data/{backend_name}/{nq}_{problem_name}_{method}{seed}{version}.npy\", results)"
   ]
  },
  {
   "cell_type": "code",
   "execution_count": 45,
   "id": "50362d25",
   "metadata": {},
   "outputs": [
    {
     "name": "stdout",
     "output_type": "stream",
     "text": [
      "SWAP\n",
      "[np.float64(0.88), np.float64(0.897), np.float64(0.917), np.float64(0.924)] 0.5767461538461538\n",
      "[np.float64(0.193), np.float64(0.237), np.float64(0.341), np.float64(0.355)] 0.5767461538461538\n",
      "0.8197117569016593\n",
      "OrderedDict([('cx', 117), ('rx', 30), ('rz', 24), ('rzz', 21), ('h', 10), ('measure', 10)]) 44\n",
      "PTC\n",
      "[np.float64(0.875), np.float64(0.892), np.float64(0.91), np.float64(0.924)] 0.5762\n",
      "[np.float64(0.173), np.float64(0.223), np.float64(0.296), np.float64(0.356)] 0.5762\n",
      "0.8217591752277924\n",
      "OrderedDict([('cx', 210), ('rz', 45), ('rx', 30), ('h', 10), ('measure', 10)]) 70\n",
      "Qiskit-T\n",
      "[np.float64(0.88), np.float64(0.893), np.float64(0.916), np.float64(0.922)] 0.5775846153846154\n",
      "[np.float64(0.199), np.float64(0.238), np.float64(0.31), np.float64(0.356)] 0.5775846153846154\n",
      "0.8164402520304476\n",
      "OrderedDict([('rzz', 45), ('rx', 30), ('h', 10), ('measure', 10)]) 21\n"
     ]
    },
    {
     "data": {
      "text/plain": [
       "Text(0.5, 0, 'p')"
      ]
     },
     "execution_count": 45,
     "metadata": {},
     "output_type": "execute_result"
    },
    {
     "data": {
      "image/png": "[encoded data removed]",
      "text/plain": [
       "<Figure size 640x480 with 1 Axes>"
      ]
     },
     "metadata": {},
     "output_type": "display_data"
    }
   ],
   "source": [
    "# backend_name = \"ibm_brisbane\"\n",
    "import matplotlib.pyplot as plt\n",
    "backend_name = \"qasm_simulator\"\n",
    "problem_name = \"3MC\"\n",
    "version = \"\"\n",
    "methods = [\"SWAP\",\"PTC\",\"Qiskit-T\"]\n",
    "seed = 123\n",
    "nq = 10\n",
    "fig, ax = plt.subplots()\n",
    "for method in methods:\n",
    "    results = np.load(f\"./Data/{backend_name}/{nq}_{problem_name}_{method}{seed}{version}.npy\", allow_pickle=True).item()\n",
    "    print(method)\n",
    "\n",
    "    ax.plot(results[\"ps\"], [results[\"postprocessing\"][0.5][p][0][\"r\"] for p in results[\"ps\"]], label=method, marker=\"o\", markeredgecolor=\"black\")\n",
    "    \n",
    "    print([round(results[\"postprocessing\"][0.5][p][0][\"r\"],3) for p in results[\"ps\"]], results[\"random\"][\"r\"])\n",
    "    print([round(results[\"postprocessing\"][0.5][p][0][\"probability\"],3) for p in results[\"ps\"]], results[\"random\"][\"r\"])\n",
    "    print((max([results[\"postprocessing\"][0.5][p][0][\"r\"] for p in results[\"ps\"]]) - results[\"random\"][\"r\"])/(1-results[\"random\"][\"r\"]))\n",
    "    print(results[\"circuits\"][3], results[\"depth\"][3])\n",
    "ax.legend()\n",
    "ax.set_ylabel(\"r\")\n",
    "ax.set_xlabel(\"p\")"
   ]
  },
  {
   "cell_type": "code",
   "execution_count": null,
   "id": "6e2aaf9e",
   "metadata": {},
   "outputs": [],
   "source": []
  }
 ],
 "metadata": {
  "kernelspec": {
   "display_name": "venv",
   "language": "python",
   "name": "python3"
  },
  "language_info": {
   "codemirror_mode": {
    "name": "ipython",
    "version": 3
   },
   "file_extension": ".py",
   "mimetype": "text/x-python",
   "name": "python",
   "nbconvert_exporter": "python",
   "pygments_lexer": "ipython3",
   "version": "3.11.5"
  }
 },
 "nbformat": 4,
 "nbformat_minor": 5
}
